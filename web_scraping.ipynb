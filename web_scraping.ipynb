{
 "cells": [
  {
   "cell_type": "code",
   "execution_count": 197,
   "metadata": {},
   "outputs": [
    {
     "name": "stdout",
     "output_type": "stream",
     "text": [
      "Price ==  $218.75\n"
     ]
    }
   ],
   "source": [
    "from selenium import webdriver\n",
    "from selenium.webdriver.common.by import By\n",
    "from selenium.webdriver.support.ui import WebDriverWait as wait\n",
    "from selenium.webdriver.support import expected_conditions as EC\n",
    "from selenium.webdriver.common.keys import Keys\n",
    "\n",
    "\n",
    "# Initialize the web driver\n",
    "driver = webdriver.Chrome()\n",
    "\n",
    "\n",
    "# Navigate to the website\n",
    "driver.get(\"https://www.rentcars.com/en/\")\n",
    "\n",
    "\n",
    "# # Select the pick-up location\n",
    "pickup_location = driver.find_element(By.ID, \"SuggestPickup\")\n",
    "pickup_location.send_keys(\"Fort Lauderdale, FL, United States\")\n",
    "driver.execute_script(\"\"\"\n",
    "let xpathResult = document.evaluate(\"//*[@id='CodigoLocalidadeRetirada']\", document, null, XPathResult.FIRST_ORDERED_NODE_TYPE, null);\n",
    "let myElement = xpathResult.singleNodeValue;\n",
    "myElement.value = '576';\n",
    "\"\"\")\n",
    "\n",
    "\n",
    "# Input pick-up date\n",
    "driver.execute_script(\"document.getElementById('DataRetirada').value = 'Feb/20/2023';\")\n",
    "\n",
    "\n",
    "# Input pick-up hour\n",
    "pickup_time = driver.find_element(By.ID, \"HoraRetirada\")\n",
    "pickup_time.send_keys(\"10:00 AM\")\n",
    "\n",
    "\n",
    "# Input drop-off date\n",
    "driver.execute_script(\"document.getElementById('DataDevolucao').value = 'Feb/26/2023';\")\n",
    "\n",
    "\n",
    "# Input drop-off hour\n",
    "dropoff_time = driver.find_element(By.ID, \"HoraDevolucao\")\n",
    "dropoff_time.send_keys(\"11:00 AM\")\n",
    "\n",
    "\n",
    "# Choosing Brazil residence \n",
    "open_dropdown = driver.find_element(By.XPATH, \"//*[@id='search-option-place']/span/span[1]\")\n",
    "open_dropdown.click()\n",
    "input = driver.find_element(By.XPATH, \"/html/body/span[3]/span/span[1]/input\")\n",
    "input.send_keys(\"Brazil\")\n",
    "input.send_keys(Keys.RETURN)\n",
    "\n",
    "\n",
    "# Click the \"Search\" button\n",
    "wait(driver, 5).until(EC.element_to_be_clickable((By.XPATH, \"//*[@id='formPesquisa']/div[5]/button\"))).click()\n",
    "\n",
    "\n",
    "# Wait for loading screen and select price \n",
    "price = wait(driver, 100).until(EC.element_to_be_clickable((By.XPATH, \"//*[@id='card-577-1676898000-577-1677420000-846-17-15501-4289-34408-34408-0-0/11123/USD/BR']/div[2]/div/div[1]/div[2]/span[1]\")))\n",
    "price_text = price.get_attribute('innerText').strip()\n",
    "\n",
    "\n",
    "# Print price \n",
    "print(\"Price == \", price_text)\n",
    "\n",
    "\n",
    "# Close the web driver\n",
    "driver.quit()\n"
   ]
  },
  {
   "cell_type": "code",
   "execution_count": null,
   "metadata": {},
   "outputs": [],
   "source": []
  }
 ],
 "metadata": {
  "kernelspec": {
   "display_name": "Python 3",
   "language": "python",
   "name": "python3"
  },
  "language_info": {
   "codemirror_mode": {
    "name": "ipython",
    "version": 3
   },
   "file_extension": ".py",
   "mimetype": "text/x-python",
   "name": "python",
   "nbconvert_exporter": "python",
   "pygments_lexer": "ipython3",
   "version": "3.10.0"
  },
  "orig_nbformat": 4,
  "vscode": {
   "interpreter": {
    "hash": "0ec1d081f4f13b1ff9a322e10bdfcb11cc65b7860a561386add35709c62a8d31"
   }
  }
 },
 "nbformat": 4,
 "nbformat_minor": 2
}
